{
 "cells": [
  {
   "cell_type": "code",
   "execution_count": 1,
   "id": "d867f7e8-8182-4000-ab5a-4c4299309c2c",
   "metadata": {},
   "outputs": [],
   "source": [
    "#Data Science Tools and Ecosystem"
   ]
  },
  {
   "cell_type": "code",
   "execution_count": null,
   "id": "91c1ad9a-b9b4-44e8-8643-940a1db95a52",
   "metadata": {},
   "outputs": [],
   "source": [
    "#In this notebook, Data Science Tools and Ecosystem are summarized."
   ]
  },
  {
   "cell_type": "code",
   "execution_count": null,
   "id": "e19ababe-26e6-4c14-8750-2fe5afbdc616",
   "metadata": {},
   "outputs": [],
   "source": [
    "#Some of the popular languages that Data Scientists use are:\n",
    "\n",
    "1. Python\n",
    "2. R\n",
    "3. SQL\n",
    "4. Julia\n",
    "5. Scala\n"
   ]
  },
  {
   "cell_type": "code",
   "execution_count": null,
   "id": "0a5cc333-d0a6-415b-b0bb-0a49f60d409a",
   "metadata": {},
   "outputs": [],
   "source": [
    "#Some of the commonly used libraries used by Data Scientists include:\n",
    "\n",
    "1. Pandas\n",
    "2. NumPy\n",
    "3. Matplotlib\n",
    "4. Scikit-learn\n",
    "5. TensorFlow\n"
   ]
  },
  {
   "cell_type": "code",
   "execution_count": 3,
   "id": "ec7cbc81-eeb3-481d-ab31-bc489be50aff",
   "metadata": {},
   "outputs": [
    {
     "ename": "SyntaxError",
     "evalue": "invalid syntax (2166034568.py, line 3)",
     "output_type": "error",
     "traceback": [
      "\u001b[0;36m  Cell \u001b[0;32mIn[3], line 3\u001b[0;36m\u001b[0m\n\u001b[0;31m    1. JupyterNotebook\u001b[0m\n\u001b[0m       ^\u001b[0m\n\u001b[0;31mSyntaxError\u001b[0m\u001b[0;31m:\u001b[0m invalid syntax\n"
     ]
    }
   ],
   "source": [
    "# Data Science Tools   \n",
    "\n",
    "1. JupyterNotebook                       \n",
    "2. RStudio                                \n",
    "3. ApacheZeppelin\n"
   ]
  },
  {
   "cell_type": "code",
   "execution_count": null,
   "id": "7f6a1e04-5520-44de-8ba1-eac7de6ccd66",
   "metadata": {},
   "outputs": [],
   "source": [
    "###Below are a few examples of evaluating arithmetic expressions in Python"
   ]
  },
  {
   "cell_type": "code",
   "execution_count": 2,
   "id": "f2e5e0aa-79ee-4ecd-a914-933d01b643bc",
   "metadata": {},
   "outputs": [
    {
     "data": {
      "text/plain": [
       "17"
      ]
     },
     "execution_count": 2,
     "metadata": {},
     "output_type": "execute_result"
    }
   ],
   "source": [
    "# This a simple arithmetic expression to mutiply then add integers\n",
    "(3 * 4) + 5\n"
   ]
  },
  {
   "cell_type": "code",
   "execution_count": 4,
   "id": "2ba609fe-bf7a-4ee9-81e7-69d53b2415f5",
   "metadata": {},
   "outputs": [
    {
     "data": {
      "text/plain": [
       "3.3333333333333335"
      ]
     },
     "execution_count": 4,
     "metadata": {},
     "output_type": "execute_result"
    }
   ],
   "source": [
    "# This will convert 200 minutes to hours by diving by 60\n",
    "200 / 60\n"
   ]
  },
  {
   "cell_type": "code",
   "execution_count": null,
   "id": "8e4c1524-ad25-4612-a548-053ea5cd4f38",
   "metadata": {},
   "outputs": [],
   "source": [
    "**Objetivos**\n",
    "\n",
    "- Listar lenguajes populares para ciencia de datos\n",
    "- Describir herramientas de código abierto utilizadas en ciencia de datos\n",
    "- Explicar la importancia de los entornos de desarrollo\n",
    "- Crear y ejecutar celdas de código en Jupyter Notebook\n",
    "- Aprender a realizar operaciones aritméticas básicas en Python\n"
   ]
  },
  {
   "cell_type": "code",
   "execution_count": null,
   "id": "b079a032-58fe-4fdf-b33a-011d4606d355",
   "metadata": {},
   "outputs": [],
   "source": [
    "## AUTOR\n",
    "Cristian Roberto Pizarro Villarroel"
   ]
  },
  {
   "cell_type": "code",
   "execution_count": null,
   "id": "ab5f6001-79c8-41e0-a05d-8104e97cfbaa",
   "metadata": {},
   "outputs": [],
   "source": []
  }
 ],
 "metadata": {
  "kernelspec": {
   "display_name": "Python 3 (ipykernel)",
   "language": "python",
   "name": "python3"
  },
  "language_info": {
   "codemirror_mode": {
    "name": "ipython",
    "version": 3
   },
   "file_extension": ".py",
   "mimetype": "text/x-python",
   "name": "python",
   "nbconvert_exporter": "python",
   "pygments_lexer": "ipython3",
   "version": "3.11.9"
  }
 },
 "nbformat": 4,
 "nbformat_minor": 5
}
